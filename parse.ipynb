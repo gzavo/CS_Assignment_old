{
 "cells": [
  {
   "cell_type": "code",
   "execution_count": 1,
   "metadata": {},
   "outputs": [],
   "source": [
    "import matplotlib.pyplot as plt\n",
    "import numpy as np"
   ]
  },
  {
   "cell_type": "code",
   "execution_count": 28,
   "metadata": {},
   "outputs": [],
   "source": [
    "def my_parse(sline, compact = False):\n",
    "    year, wo, beer = sline[0], sline[1], sline[2]\n",
    "    factor = 1000\n",
    "    if compact:\n",
    "        factor = 1\n",
    "    return [\n",
    "        int(year),\n",
    "        round(factor*parse_eurofloat(wo)),\n",
    "        factor * int(beer)\n",
    "    ]\n",
    "        \n",
    "def parse_eurofloat(f) -> float:\n",
    "    split_f = f.split(',')\n",
    "    euro = float(split_f[0])\n",
    "    cents = float(split_f[1])  # don't think too much about the identifiers\n",
    "    return euro + cents/100.\n",
    "\n"
   ]
  },
  {
   "cell_type": "code",
   "execution_count": 2,
   "metadata": {},
   "outputs": [],
   "source": [
    "correlation_data_file = \"istherecorrelation.csv\"\n",
    "data_file_handle = open(correlation_data_file, \"r\")\n",
    "lines = data_file_handle.readlines()\n",
    "split_lines = [line.split(';') for line in lines]"
   ]
  },
  {
   "cell_type": "code",
   "execution_count": 29,
   "metadata": {},
   "outputs": [],
   "source": [
    "headers = split_lines[0]\n",
    "data = split_lines[1:]\n",
    "parsed_data = np.array([my_parse(data_row, compact = True) for data_row in data])"
   ]
  },
  {
   "cell_type": "code",
   "execution_count": 30,
   "metadata": {},
   "outputs": [],
   "source": [
    "np.savetxt(\"istherecorrelation.dat\", parsed_data)"
   ]
  }
 ],
 "metadata": {
  "kernelspec": {
   "display_name": "Python 3",
   "language": "python",
   "name": "python3"
  },
  "language_info": {
   "codemirror_mode": {
    "name": "ipython",
    "version": 3
   },
   "file_extension": ".py",
   "mimetype": "text/x-python",
   "name": "python",
   "nbconvert_exporter": "python",
   "pygments_lexer": "ipython3",
   "version": "3.8.5"
  }
 },
 "nbformat": 4,
 "nbformat_minor": 4
}
